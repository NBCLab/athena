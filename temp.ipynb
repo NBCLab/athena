{
 "cells": [
  {
   "cell_type": "code",
   "execution_count": 2,
   "metadata": {
    "collapsed": true
   },
   "outputs": [],
   "source": [
    "from __future__ import division\n",
    "import itertools\n",
    "import pandas as pd\n",
    "from os.path import join\n",
    "from dateutil.parser import parse\n",
    "from datetime import datetime"
   ]
  },
  {
   "cell_type": "code",
   "execution_count": 3,
   "metadata": {
    "collapsed": true
   },
   "outputs": [],
   "source": [
    "# how long should it take?"
   ]
  },
  {
   "cell_type": "code",
   "execution_count": 4,
   "metadata": {
    "collapsed": false
   },
   "outputs": [],
   "source": [
    "# Duration of test_cv job\n",
    "beg = parse('May 14 13:29 2017')\n",
    "end = parse('May 15 04:45 2017')\n",
    "dur = end - beg\n",
    "test_secs = dur.total_seconds()\n",
    "\n",
    "test_iters = 5\n",
    "targ_iters = 20\n",
    "test_labels = 6\n",
    "targ_labels = 86\n",
    "\n",
    "targ_secs = test_secs * (targ_iters / test_iters) * (targ_labels / test_labels)"
   ]
  },
  {
   "cell_type": "code",
   "execution_count": 6,
   "metadata": {
    "collapsed": false
   },
   "outputs": [
    {
     "name": "stdout",
     "output_type": "stream",
     "text": [
      "By parallelizing across 8 cores, the ATHENA job should take 36.470 days.\n"
     ]
    }
   ],
   "source": [
    "targ_mins = targ_secs / 60\n",
    "targ_hrs = targ_mins / 60\n",
    "targ_days = targ_hrs / 24\n",
    "print('By parallelizing across {0} cores, the ATHENA job '\n",
    "      'should take {1:0.03f} days.'.format(8, targ_days))"
   ]
  },
  {
   "cell_type": "code",
   "execution_count": null,
   "metadata": {
    "collapsed": true
   },
   "outputs": [],
   "source": []
  }
 ],
 "metadata": {
  "kernelspec": {
   "display_name": "Python 2",
   "language": "python",
   "name": "python2"
  },
  "language_info": {
   "codemirror_mode": {
    "name": "ipython",
    "version": 2
   },
   "file_extension": ".py",
   "mimetype": "text/x-python",
   "name": "python",
   "nbconvert_exporter": "python",
   "pygments_lexer": "ipython2",
   "version": "2.7.11"
  }
 },
 "nbformat": 4,
 "nbformat_minor": 0
}
