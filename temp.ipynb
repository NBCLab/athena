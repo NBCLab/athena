{
 "cells": [
  {
   "cell_type": "code",
   "execution_count": 1,
   "metadata": {
    "collapsed": true
   },
   "outputs": [],
   "source": [
    "from __future__ import division\n",
    "import itertools\n",
    "import pandas as pd\n",
    "from os.path import join\n",
    "from dateutil.parser import parse\n",
    "from datetime import datetime"
   ]
  },
  {
   "cell_type": "code",
   "execution_count": 2,
   "metadata": {
    "collapsed": true
   },
   "outputs": [],
   "source": [
    "# prepare inputs for parallelization"
   ]
  },
  {
   "cell_type": "code",
   "execution_count": 3,
   "metadata": {
    "collapsed": false
   },
   "outputs": [],
   "source": [
    "# regular inputs\n",
    "data_dir = '/home/data/nbc/athena/athena-data2/'\n",
    "label_df = pd.read_csv(join(data_dir, 'labels/red_labels.csv'),\n",
    "                       index_col='pmid')\n",
    "out_dir = '/scratch/tsalo006/test_cv/'\n",
    "\n",
    "sources = ['full', 'abstract']\n",
    "classifiers = ['knn', 'svm', 'bnb', 'lr']\n",
    "text_dirs = [join(data_dir, 'text/stemmed_{0}/'.format(s)) for s in sources]\n",
    "cogat_dfs = [pd.read_csv(join(data_dir, 'features/cogat_{0}.csv'.format(s)),\n",
    "                         index_col='pmid') for s in sources]"
   ]
  },
  {
   "cell_type": "code",
   "execution_count": 7,
   "metadata": {
    "collapsed": false
   },
   "outputs": [],
   "source": [
    "# inputs, parallelized\n",
    "# you know what? let's do this the easy way\n",
    "label_dfs = []\n",
    "out_dirs = []\n",
    "text_dirs = []\n",
    "cogat_dfs = []\n",
    "so_input = []\n",
    "clf_input = []\n",
    "\n",
    "for s in sources:\n",
    "    text_dir = join(data_dir, 'text/stemmed_{0}/'.format(s))\n",
    "    cogat_df = pd.read_csv(join(data_dir, 'features/cogat_{0}.csv'.format(s)),\n",
    "                           index_col='pmid')\n",
    "    for c in classifiers:\n",
    "        label_dfs.append(label_df)\n",
    "        out_dirs.append(out_dir)\n",
    "        text_dirs.append(text_dir)\n",
    "        cogat_dfs.append(cogat_df)\n",
    "        so_input.append(s)\n",
    "        clf_input.append(c)\n",
    "params = zip(*[label_dfs, out_dirs, text_dirs,\n",
    "               cogat_dfs, so_input, clf_input])"
   ]
  },
  {
   "cell_type": "code",
   "execution_count": 5,
   "metadata": {
    "collapsed": true
   },
   "outputs": [],
   "source": [
    "# how long should it take?"
   ]
  },
  {
   "cell_type": "code",
   "execution_count": 6,
   "metadata": {
    "collapsed": false
   },
   "outputs": [],
   "source": [
    "# Duration of test_cv job\n",
    "beg = parse('May  9 11:42:45 2017')\n",
    "end = parse('May 11 09:50:07 2017')\n",
    "dur = end - beg\n",
    "test_secs = dur.total_seconds()\n",
    "\n",
    "test_iters = 5\n",
    "targ_iters = 20\n",
    "test_labels = 6\n",
    "targ_labels = 86\n",
    "\n",
    "targ_secs = test_secs * (targ_iters / test_iters) * (targ_labels / test_labels)"
   ]
  },
  {
   "cell_type": "code",
   "execution_count": 7,
   "metadata": {
    "collapsed": false
   },
   "outputs": [
    {
     "name": "stdout",
     "output_type": "stream",
     "text": [
      "By parallelizing across 8 cores, the ATHENA job should take 13.773 days.\n"
     ]
    }
   ],
   "source": [
    "targ_mins = targ_secs / 60\n",
    "targ_hrs = targ_mins / 60\n",
    "targ_days = targ_hrs / 24\n",
    "par_days = targ_days / len(so_clf_combos)\n",
    "print('By parallelizing across {0} cores, the ATHENA job '\n",
    "      'should take {1:0.03f} days.'.format(len(so_clf_combos), par_days))"
   ]
  }
 ],
 "metadata": {
  "kernelspec": {
   "display_name": "Python 2",
   "language": "python",
   "name": "python2"
  },
  "language_info": {
   "codemirror_mode": {
    "name": "ipython",
    "version": 2
   },
   "file_extension": ".py",
   "mimetype": "text/x-python",
   "name": "python",
   "nbconvert_exporter": "python",
   "pygments_lexer": "ipython2",
   "version": "2.7.11"
  }
 },
 "nbformat": 4,
 "nbformat_minor": 0
}
