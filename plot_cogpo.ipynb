{
 "cells": [
  {
   "cell_type": "markdown",
   "metadata": {},
   "source": [
    "# Plot CogPO\n",
    "Plotting the structure of the Cognitive Paradigm Ontology."
   ]
  },
  {
   "cell_type": "code",
   "execution_count": null,
   "metadata": {
    "collapsed": false
   },
   "outputs": [],
   "source": [
    "%matplotlib inline\n",
    "from __future__ import division\n",
    "import numpy as np\n",
    "import seaborn as sns\n",
    "import os\n",
    "import pydotplus as pydot\n",
    "import pandas as pd\n",
    "import re\n",
    "from cStringIO import StringIO\n",
    "import matplotlib.pyplot as plt\n",
    "import matplotlib.image as mpimg"
   ]
  },
  {
   "cell_type": "markdown",
   "metadata": {},
   "source": [
    "## Functions"
   ]
  },
  {
   "cell_type": "code",
   "execution_count": 1,
   "metadata": {
    "collapsed": true
   },
   "outputs": [],
   "source": [
    "def plot_hierarchy(observed_cogpo, domain_name, out_file):\n",
    "    # first you create a new graph, you do that with pydot.Dot()\n",
    "    graph = pydot.Dot(graph_type=\"graph\", overlap=False)\n",
    "    \n",
    "    # Reduce labels to only look at Behavioral Domain, which is the only section\n",
    "    # of CogPO with additional depth.\n",
    "    observed_cogpo = [i[12:] for i in observed_cogpo if domain_name in i]\n",
    "    \n",
    "    proc_cogpo = observed_cogpo[:]\n",
    "    for label in observed_cogpo:\n",
    "        sections = label.split(\".\")\n",
    "        for i in range(1, len(sections)):\n",
    "            parent = \".\".join(sections[:i])\n",
    "            if parent not in proc_cogpo:\n",
    "                proc_cogpo += [parent]\n",
    "    \n",
    "    for label in proc_cogpo:\n",
    "        node_name = label\n",
    "        node_label = '\"' + label.split(\".\")[-1] + '\"'\n",
    "        graph.add_node(pydot.Node(node_name, label=node_label))\n",
    "    \n",
    "    for label in proc_cogpo:\n",
    "        sections = label.split(\".\")\n",
    "        if len(sections) > 1:\n",
    "            parent = \".\".join(sections[:-1])\n",
    "            edge = pydot.Edge(parent, label)\n",
    "            graph.add_edge(edge)\n",
    "\n",
    "    # Render pydot by calling dot, no file saved to disk\n",
    "    png_str = graph.create_png(prog='dot')\n",
    "\n",
    "    # Treat the dot output string as an image file\n",
    "    sio = StringIO()\n",
    "    sio.write(png_str)\n",
    "    sio.seek(0)\n",
    "    img = mpimg.imread(sio)\n",
    "\n",
    "    # Plot the image\n",
    "    imgplot = plt.imshow(img, aspect='equal')\n",
    "    plt.show(block=False)\n",
    "    \n",
    "    # Save figure\n",
    "    graph.write_png(out_file)"
   ]
  },
  {
   "cell_type": "code",
   "execution_count": 19,
   "metadata": {
    "collapsed": true
   },
   "outputs": [],
   "source": [
    "# Plot hierarchy\n",
    "labels_file = \"/Users/salo/NBCLab/athena-data/labels/full.csv\"\n",
    "out_dir = \"/Users/salo/NBCLab/athena-data/figures/\"\n",
    "\n",
    "df = pd.read_csv(labels_file)\n",
    "observed_cogpo = df.columns[1:].astype(str).tolist()"
   ]
  },
  {
   "cell_type": "code",
   "execution_count": 20,
   "metadata": {
    "collapsed": false
   },
   "outputs": [],
   "source": [
    "# Behavioral Domain\n",
    "out_file = os.path.join(out_dir, \"behavioral_domain.png\")\n",
    "plot_hierarchy(observed_cogpo, \"BehavioralDomain\", out_file)"
   ]
  },
  {
   "cell_type": "code",
   "execution_count": 21,
   "metadata": {
    "collapsed": true
   },
   "outputs": [],
   "source": [
    "# Paradigm Class\n",
    "out_file = os.path.join(out_dir, \"paradigm_class.png\")\n",
    "plot_hierarchy(observed_cogpo, \"ParadigmClass\", out_file)"
   ]
  },
  {
   "cell_type": "code",
   "execution_count": 22,
   "metadata": {
    "collapsed": false
   },
   "outputs": [
    {
     "data": {
      "image/png": "[encoded data removed]",
      "text/plain": [
       "<matplotlib.figure.Figure at 0x114f79450>"
      ]
     },
     "metadata": {},
     "output_type": "display_data"
    }
   ],
   "source": [
    "# Plot heatmap\n",
    "data = df.values[:, 1:]\n",
    "\n",
    "out = np.zeros((data.shape[1], data.shape[1]))\n",
    "for i in range(data.shape[1]):\n",
    "    for j in range(data.shape[1]):\n",
    "        pos_i = np.where(data[:, i]==1)[0]\n",
    "        pos_j = np.where(data[:, j]==1)[0]\n",
    "        diff = np.setdiff1d(pos_j, pos_i).shape[0]\n",
    "        if pos_j.shape[0] == 0:\n",
    "            frac = 0\n",
    "        else:\n",
    "            frac = 1 - (diff / pos_j.shape[0])\n",
    "        out[i, j] = frac\n",
    "\n",
    "cmap = sns.diverging_palette(220, 10, as_cmap=True)\n",
    "plot = sns.heatmap(out, cmap=cmap, xticklabels=False, yticklabels=False)\n",
    "fig = plot.get_figure()\n",
    "fig.savefig(os.path.join(out_dir, \"cogpo_correlations.png\"))"
   ]
  }
 ],
 "metadata": {
  "kernelspec": {
   "display_name": "Python 2",
   "language": "python",
   "name": "python2"
  },
  "language_info": {
   "codemirror_mode": {
    "name": "ipython",
    "version": 2
   },
   "file_extension": ".py",
   "mimetype": "text/x-python",
   "name": "python",
   "nbconvert_exporter": "python",
   "pygments_lexer": "ipython2",
   "version": "2.7.11"
  }
 },
 "nbformat": 4,
 "nbformat_minor": 0
}
